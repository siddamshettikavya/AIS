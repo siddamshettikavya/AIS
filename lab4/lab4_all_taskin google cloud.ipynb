{
  "nbformat": 4,
  "nbformat_minor": 0,
  "metadata": {
    "colab": {
      "provenance": []
    },
    "kernelspec": {
      "name": "python3",
      "display_name": "Python 3"
    },
    "language_info": {
      "name": "python"
    }
  },
  "cells": [
    {
      "cell_type": "markdown",
      "source": [],
      "metadata": {
        "id": "FOwOrW4vDYxw"
      }
    },
    {
      "cell_type": "markdown",
      "source": [
        "Task Description#5\n",
        "●Use few-shot prompting to generate a function that reads a .txt file and returns the number of lines.\n",
        "Expected Output#5\n",
        "●Working file-processing function with AI-guided logic\n",
        "Prompt:"
      ],
      "metadata": {
        "id": "v8N_6eYbDrQH"
      }
    },
    {
      "cell_type": "code",
      "source": [
        "def count_lines(filename):\n",
        "  \"\"\"Reads a text file and prints its number of lines.\"\"\"\n",
        "  try:\n",
        "    with open(filename, 'r') as f:\n",
        "      lines = f.readlines()\n",
        "      print(f\"Number of lines in {filename}: {len(lines)}\")\n",
        "  except FileNotFoundError:\n",
        "    print(f\"Error: File '{filename}' not found.\")\n",
        "\n",
        "# Example usage:\n",
        "# Create a dummy file for testing\n",
        "with open(\"example.txt\", \"w\") as f:\n",
        "  f.write(\"hello world\\n\")\n",
        "  f.write(\"hi hello\\n\")\n",
        "  f.write(\"sru ai technology\\n\")\n",
        "\n",
        "\n",
        "count_lines(\"example.txt\")\n",
        "\n",
        "# You can replace \"example.txt\" with the path to your file."
      ],
      "metadata": {
        "colab": {
          "base_uri": "https://localhost:8080/"
        },
        "id": "0yazyH-9DsHP",
        "outputId": "1db706ba-3f0f-4e4f-fdc2-10dc2420a47f"
      },
      "execution_count": null,
      "outputs": [
        {
          "output_type": "stream",
          "name": "stdout",
          "text": [
            "Number of lines in example.txt: 3\n"
          ]
        }
      ]
    },
    {
      "cell_type": "markdown",
      "source": [
        "Write a Python function that checks whether a given year is a leap year."
      ],
      "metadata": {
        "id": "7ZNb1I2-0Gxh"
      }
    },
    {
      "cell_type": "code",
      "source": [
        "def is_leap(year):\n",
        "  \"\"\"Checks whether a given year is a leap year.\"\"\"\n",
        "  return (year % 4 == 0 and year % 100 != 0) or (year % 400 == 0)\n",
        "\n",
        "# Example usage:\n",
        "year_to_check = 2024\n",
        "if is_leap(year_to_check):\n",
        "  print(f\"{year_to_check} is a leap year.\")\n",
        "else:\n",
        "  print(f\"{year_to_check} is not a leap year.\")"
      ],
      "metadata": {
        "colab": {
          "base_uri": "https://localhost:8080/"
        },
        "id": "Fp5zvso60Lza",
        "outputId": "ea6cfaa0-d355-44f6-929c-02988b43d055"
      },
      "execution_count": 1,
      "outputs": [
        {
          "output_type": "stream",
          "name": "stdout",
          "text": [
            "2024 is a leap year.\n"
          ]
        }
      ]
    },
    {
      "cell_type": "markdown",
      "source": [
        "Prompt: Write a Python function that converts centimeters to inches. Use the formula: EXAMPLES:  inches = centimeters / 2.54"
      ],
      "metadata": {
        "id": "Dw-2KBVh0j_V"
      }
    },
    {
      "cell_type": "code",
      "source": [
        "def centimeters_to_inches(centimeters):\n",
        "  \"\"\"Converts centimeters to inches.\"\"\"\n",
        "  inches = centimeters / 2.54\n",
        "  return inches\n",
        "\n",
        "# Example usage:\n",
        "cm_to_convert = 10\n",
        "inches_converted = centimeters_to_inches(cm_to_convert)\n",
        "print(f\"{cm_to_convert} centimeters is equal to {inches_converted:.2f} inches.\")"
      ],
      "metadata": {
        "colab": {
          "base_uri": "https://localhost:8080/"
        },
        "id": "eLo_Z5wJ0lRk",
        "outputId": "b5fdae9a-e93d-4a70-c390-4604b63ba5d1"
      },
      "execution_count": 2,
      "outputs": [
        {
          "output_type": "stream",
          "name": "stdout",
          "text": [
            "10 centimeters is equal to 3.94 inches.\n"
          ]
        }
      ]
    },
    {
      "cell_type": "markdown",
      "source": [
        "Prompt:\n",
        "Write a Python function that takes a full name and returns it in the format \"Last, First\". Folow the examples below.\n",
        "EXAMPLE1\n",
        "John smith\n",
        "Alice johnson\n",
        "Michael jorban\n",
        "\n"
      ],
      "metadata": {
        "id": "UCyqq_77045p"
      }
    },
    {
      "cell_type": "code",
      "source": [
        "def format_name(full_name):\n",
        "  \"\"\"Takes a full name and returns it in the format 'Last, First'.\"\"\"\n",
        "  name_parts = full_name.split()\n",
        "  if len(name_parts) >= 2:\n",
        "    return f\"{name_parts[-1]}, {' '.join(name_parts[:-1])}\"\n",
        "  else:\n",
        "    return full_name\n",
        "\n",
        "# Example usages:\n",
        "print(format_name(\"John smith\"))\n",
        "print(format_name(\"Alice johnson\"))\n",
        "print(format_name(\"Michael jorban\"))"
      ],
      "metadata": {
        "colab": {
          "base_uri": "https://localhost:8080/"
        },
        "id": "kUOuyJKk05yw",
        "outputId": "edc16749-5a5b-4127-de20-f8d0f40b79c7"
      },
      "execution_count": 3,
      "outputs": [
        {
          "output_type": "stream",
          "name": "stdout",
          "text": [
            "smith, John\n",
            "johnson, Alice\n",
            "jorban, Michael\n"
          ]
        }
      ]
    },
    {
      "cell_type": "markdown",
      "source": [
        "Prompt:\n",
        "Write a Python function that counts the number of vowels (a, e, i, o, u) in a string.\n"
      ],
      "metadata": {
        "id": "iuMO8Oo21Qvl"
      }
    },
    {
      "cell_type": "code",
      "source": [
        "def count_vowels(text):\n",
        "  \"\"\"Counts the number of vowels in a string.\"\"\"\n",
        "  vowels = \"aeiouAEIOU\"\n",
        "  vowel_count = 0\n",
        "  for char in text:\n",
        "    if char in vowels:\n",
        "      vowel_count += 1\n",
        "  return vowel_count\n",
        "\n",
        "# Example usage:\n",
        "input_string = \"Hello World\"\n",
        "num_vowels = count_vowels(input_string)\n",
        "print(f\"The number of vowels in '{input_string}' is: {num_vowels}\")"
      ],
      "metadata": {
        "colab": {
          "base_uri": "https://localhost:8080/"
        },
        "id": "AiMNMdgs1RYK",
        "outputId": "77e7917d-7f1d-43d9-9b2e-cb832b6470d5"
      },
      "execution_count": 4,
      "outputs": [
        {
          "output_type": "stream",
          "name": "stdout",
          "text": [
            "The number of vowels in 'Hello World' is: 3\n"
          ]
        }
      ]
    }
  ]
}