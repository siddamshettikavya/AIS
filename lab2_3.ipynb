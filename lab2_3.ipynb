{
  "nbformat": 4,
  "nbformat_minor": 0,
  "metadata": {
    "colab": {
      "provenance": [],
      "authorship_tag": "ABX9TyOXX+nV7fRvi1DrtlxlQTCM",
      "include_colab_link": true
    },
    "kernelspec": {
      "name": "python3",
      "display_name": "Python 3"
    },
    "language_info": {
      "name": "python"
    }
  },
  "cells": [
    {
      "cell_type": "markdown",
      "metadata": {
        "id": "view-in-github",
        "colab_type": "text"
      },
      "source": [
        "<a href=\"https://colab.research.google.com/github/siddamshettikavya/AIS/blob/main/lab2_3.ipynb\" target=\"_parent\"><img src=\"https://colab.research.google.com/assets/colab-badge.svg\" alt=\"Open In Colab\"/></a>"
      ]
    },
    {
      "cell_type": "markdown",
      "source": [
        "Task Description#1\n",
        "● Use Google Gemini in Colab to write a function that reads a CSV file and calculates\n",
        "mean, min, max.\n",
        "Expected Output#1\n",
        "● Functional code with output and screenshost"
      ],
      "metadata": {
        "id": "Xu0O1uwadJ3Q"
      }
    },
    {
      "cell_type": "code",
      "source": [],
      "metadata": {
        "id": "P0mqII4XdqPZ"
      },
      "execution_count": null,
      "outputs": []
    },
    {
      "cell_type": "markdown",
      "metadata": {
        "id": "a7a71839"
      },
      "source": [
        "First, I'll install the necessary libraries."
      ]
    },
    {
      "cell_type": "code",
      "metadata": {
        "id": "d347f2c7"
      },
      "source": [
        "%pip install pandas openpyxl -q"
      ],
      "execution_count": null,
      "outputs": []
    },
    {
      "cell_type": "markdown",
      "metadata": {
        "id": "1a168927"
      },
      "source": [
        "Now, I'll define a function that reads a CSV file and calculates the mean, minimum, and maximum values for each numerical column."
      ]
    },
    {
      "cell_type": "code",
      "metadata": {
        "colab": {
          "base_uri": "https://localhost:8080/"
        },
        "id": "86af35a1",
        "outputId": "a3f345fe-7be4-44ba-8cf7-07ea24b85683"
      },
      "source": [
        "# Example usage with the new file path\n",
        "file_path_new = \"/lad.csv (1).xlsx\"\n",
        "stats_result_new = calculate_stats(file_path_new)\n",
        "\n",
        "if stats_result_new:\n",
        "  print(\"Calculated Statistics for the new file:\")\n",
        "  for col, data in stats_result_new.items():\n",
        "    print(f\"Column '{col}':\")\n",
        "    print(f\"  Mean: {data['mean']:.2f}\")\n",
        "    print(f\"  Min: {data['min']:.2f}\")\n",
        "    print(f\"  Max: {data['max']:.2f}\")"
      ],
      "execution_count": 3,
      "outputs": [
        {
          "output_type": "stream",
          "name": "stdout",
          "text": [
            "Calculated Statistics for the new file:\n",
            "Column '1':\n",
            "  Mean: 4.00\n",
            "  Min: 2.00\n",
            "  Max: 6.00\n"
          ]
        }
      ]
    }
  ]
}