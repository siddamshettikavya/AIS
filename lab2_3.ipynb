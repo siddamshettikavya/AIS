{
  "nbformat": 4,
  "nbformat_minor": 0,
  "metadata": {
    "colab": {
      "provenance": [],
      "authorship_tag": "ABX9TyMD/dpov5ZIPqfwk00/EijL",
      "include_colab_link": true
    },
    "kernelspec": {
      "name": "python3",
      "display_name": "Python 3"
    },
    "language_info": {
      "name": "python"
    }
  },
  "cells": [
    {
      "cell_type": "markdown",
      "metadata": {
        "id": "view-in-github",
        "colab_type": "text"
      },
      "source": [
        "<a href=\"https://colab.research.google.com/github/siddamshettikavya/AIS/blob/main/lab2_3.ipynb\" target=\"_parent\"><img src=\"https://colab.research.google.com/assets/colab-badge.svg\" alt=\"Open In Colab\"/></a>"
      ]
    },
    {
      "cell_type": "markdown",
      "source": [
        "Task Description#1\n",
        "● Use Google Gemini in Colab to write a function that reads a CSV file and calculates\n",
        "mean, min, max.\n",
        "Expected Output#1\n",
        "● Functional code with output and screenshost"
      ],
      "metadata": {
        "id": "Xu0O1uwadJ3Q"
      }
    },
    {
      "cell_type": "code",
      "source": [],
      "metadata": {
        "id": "P0mqII4XdqPZ"
      },
      "execution_count": null,
      "outputs": []
    },
    {
      "cell_type": "markdown",
      "metadata": {
        "id": "a7a71839"
      },
      "source": [
        "First, I'll install the necessary libraries."
      ]
    },
    {
      "cell_type": "code",
      "metadata": {
        "id": "d347f2c7"
      },
      "source": [
        "%pip install pandas openpyxl -q"
      ],
      "execution_count": null,
      "outputs": []
    },
    {
      "cell_type": "markdown",
      "metadata": {
        "id": "1a168927"
      },
      "source": [
        "Now, I'll define a function that reads a CSV file and calculates the mean, minimum, and maximum values for each numerical column."
      ]
    },
    {
      "cell_type": "code",
      "metadata": {
        "colab": {
          "base_uri": "https://localhost:8080/"
        },
        "id": "86af35a1",
        "outputId": "a3f345fe-7be4-44ba-8cf7-07ea24b85683"
      },
      "source": [
        "# Example usage with the new file path\n",
        "file_path_new = \"/lad.csv (1).xlsx\"\n",
        "stats_result_new = calculate_stats(file_path_new)\n",
        "\n",
        "if stats_result_new:\n",
        "  print(\"Calculated Statistics for the new file:\")\n",
        "  for col, data in stats_result_new.items():\n",
        "    print(f\"Column '{col}':\")\n",
        "    print(f\"  Mean: {data['mean']:.2f}\")\n",
        "    print(f\"  Min: {data['min']:.2f}\")\n",
        "    print(f\"  Max: {data['max']:.2f}\")"
      ],
      "execution_count": 3,
      "outputs": [
        {
          "output_type": "stream",
          "name": "stdout",
          "text": [
            "Calculated Statistics for the new file:\n",
            "Column '1':\n",
            "  Mean: 4.00\n",
            "  Min: 2.00\n",
            "  Max: 6.00\n"
          ]
        }
      ]
    },
    {
      "cell_type": "markdown",
      "source": [
        "Task Description#2\n",
        "● Compare Gemini and Copilot outputs for a palindrome check function.\n",
        "Expected Output#2\n",
        "● Side-by-side comparison and observations"
      ],
      "metadata": {
        "id": "RjKdOi6knTcU"
      }
    },
    {
      "cell_type": "code",
      "source": [
        "def is_palindrome(text):\n",
        "  \"\"\"\n",
        "  Checks if a given string is a palindrome.\n",
        "\n",
        "  Args:\n",
        "    text (str): The input string.\n",
        "\n",
        "  Returns:\n",
        "    bool: True if the string is a palindrome, False otherwise.\n",
        "  \"\"\"\n",
        "  # Remove spaces and convert to lowercase for case-insensitive check\n",
        "  cleaned_text = \"\".join(text.split()).lower()\n",
        "  return cleaned_text == cleaned_text[::-1]\n",
        "\n",
        "# Example usage:\n",
        "word1 = \"racecar\"\n",
        "word2 = \"hello world\"\n",
        "\n",
        "print(f\"'{word1}' is a palindrome: {is_palindrome(word1)}\")\n",
        "print(f\"'{word2}' is a palindrome: {is_palindrome(word2)}\")"
      ],
      "metadata": {
        "colab": {
          "base_uri": "https://localhost:8080/"
        },
        "id": "eaZ2dtXcnUeG",
        "outputId": "daca1be9-ef7f-4238-8a76-bfd5ad4f8625"
      },
      "execution_count": 4,
      "outputs": [
        {
          "output_type": "stream",
          "name": "stdout",
          "text": [
            "'racecar' is a palindrome: True\n",
            "'hello world' is a palindrome: False\n"
          ]
        }
      ]
    },
    {
      "cell_type": "markdown",
      "source": [
        "ask Description#3\n",
        "● Ask Gemini to explain a Python function (to calculate area of various shapes) line by\n",
        "line..\n",
        "Expected Output#3\n",
        "● Detailed explanation with code snippet"
      ],
      "metadata": {
        "id": "WQtaZ5wgo7V_"
      }
    },
    {
      "cell_type": "code",
      "source": [
        "import math\n",
        "\n",
        "def calculate_area(shape, **kwargs):\n",
        "  \"\"\"\n",
        "  Calculates the area of different shapes.\n",
        "\n",
        "  Args:\n",
        "    shape (str): The name of the shape (e.g., 'circle', 'square', 'rectangle', 'triangle').\n",
        "    **kwargs: Keyword arguments for the shape's dimensions (e.g., radius, side, length, width, base, height).\n",
        "\n",
        "  Returns:\n",
        "    float: The calculated area of the shape.\n",
        "    str: An error message if the shape is not supported or dimensions are missing.\n",
        "  \"\"\"\n",
        "  shape = shape.lower()\n",
        "\n",
        "  if shape == 'circle':\n",
        "    radius = kwargs.get('radius')\n",
        "    if radius is not None:\n",
        "      return math.pi * radius**2\n",
        "    else:\n",
        "      return \"Error: Radius not provided for circle.\"\n",
        "  elif shape == 'square':\n",
        "    side = kwargs.get('side')\n",
        "    if side is not None:\n",
        "      return side**2\n",
        "    else:\n",
        "      return \"Error: Side length not provided for square.\"\n",
        "  elif shape == 'rectangle':\n",
        "    length = kwargs.get('length')\n",
        "    width = kwargs.get('width')\n",
        "    if length is not None and width is not None:\n",
        "      return length * width\n",
        "    else:\n",
        "      return \"Error: Length and width not provided for rectangle.\"\n",
        "  elif shape == 'triangle':\n",
        "    base = kwargs.get('base')\n",
        "    height = kwargs.get('height')\n",
        "    if base is not None and height is not None:\n",
        "      return 0.5 * base * height\n",
        "    else:\n",
        "      return \"Error: Base and height not provided for triangle.\"\n",
        "  else:\n",
        "    return f\"Error: Unsupported shape '{shape}'.\"\n",
        "\n",
        "# Example usage:\n",
        "print(f\"Area of circle with radius 5: {calculate_area('circle', radius=5)}\")\n",
        "print(f\"Area of square with side 4: {calculate_area('square', side=4)}\")\n",
        "print(f\"Area of rectangle with length 5 and width 6: {calculate_area('rectangle', length=5, width=6)}\")\n",
        "print(f\"Area of triangle with base 10 and height 5: {calculate_area('triangle', base=10, height=5)}\")\n",
        "print(f\"Area of unsupported shape: {calculate_area('pentagon', side=5)}\")\n",
        "print(f\"Area of circle without radius: {calculate_area('circle')}\")"
      ],
      "metadata": {
        "colab": {
          "base_uri": "https://localhost:8080/"
        },
        "id": "NcB1MdTqpRz6",
        "outputId": "42d32d8f-3c63-4703-ce3c-58cf0911fe1a"
      },
      "execution_count": 6,
      "outputs": [
        {
          "output_type": "stream",
          "name": "stdout",
          "text": [
            "Area of circle with radius 5: 78.53981633974483\n",
            "Area of square with side 4: 16\n",
            "Area of rectangle with length 5 and width 6: 30\n",
            "Area of triangle with base 10 and height 5: 25.0\n",
            "Area of unsupported shape: Error: Unsupported shape 'pentagon'.\n",
            "Area of circle without radius: Error: Radius not provided for circle.\n"
          ]
        }
      ]
    },
    {
      "cell_type": "markdown",
      "source": [
        "Task Description#4\n",
        "● Install and configure Cursor AI. Use it to generate a Python function (e.g., sum of\n",
        "squares).\n",
        "Expected Output#4\n",
        "● Screenshots of working environments with few prompts to generate python code"
      ],
      "metadata": {
        "id": "gG3A8_2epdQ8"
      }
    },
    {
      "cell_type": "code",
      "source": [
        "def sum_of_squares(numbers):\n",
        "  \"\"\"\n",
        "  Calculates the sum of squares of a list of numbers.\n",
        "\n",
        "  Args:\n",
        "    numbers (list): A list of numbers.\n",
        "\n",
        "  Returns:\n",
        "    float: The sum of the squares of the numbers.\n",
        "  \"\"\"\n",
        "  return sum(x**2 for x in numbers)\n",
        "\n",
        "# Example usage:\n",
        "my_list = [1, 2, 3, 4, 5]\n",
        "result = sum_of_squares(my_list)\n",
        "print(f\"The sum of squares of {my_list} is: {result}\")"
      ],
      "metadata": {
        "colab": {
          "base_uri": "https://localhost:8080/"
        },
        "id": "Mxi_66xCpkWe",
        "outputId": "57f43783-6d76-4a8f-acce-f173f99ec62a"
      },
      "execution_count": 7,
      "outputs": [
        {
          "output_type": "stream",
          "name": "stdout",
          "text": [
            "The sum of squares of [1, 2, 3, 4, 5] is: 55\n"
          ]
        }
      ]
    },
    {
      "cell_type": "markdown",
      "source": [
        "Task Description#5\n",
        "● Student need to write code to calculate sum of add number and even numbers in the\n",
        "list\n",
        "Expected Output#5\n",
        "● Refactored code written by student with improved logic\n",
        "\n",
        "\n"
      ],
      "metadata": {
        "id": "HITs8EG_pwJq"
      }
    },
    {
      "cell_type": "code",
      "source": [],
      "metadata": {
        "id": "FiEhBy11p2qf"
      },
      "execution_count": null,
      "outputs": []
    },
    {
      "cell_type": "code",
      "metadata": {
        "colab": {
          "base_uri": "https://localhost:8080/"
        },
        "id": "4562d575",
        "outputId": "ecfe1c5b-21e9-423d-f606-bb8429cd1a16"
      },
      "source": [
        "def sum_odd_even(numbers):\n",
        "  \"\"\"\n",
        "  Calculates the sum of odd and even numbers in a list.\n",
        "\n",
        "  Args:\n",
        "    numbers (list): A list of numbers.\n",
        "\n",
        "  Returns:\n",
        "    tuple: A tuple containing the sum of odd numbers and the sum of even numbers.\n",
        "  \"\"\"\n",
        "  sum_odd = 0\n",
        "  sum_even = 0\n",
        "  for number in numbers:\n",
        "    if number % 2 == 0:\n",
        "      sum_even += number\n",
        "    else:\n",
        "      sum_odd += number\n",
        "  return sum_odd, sum_even\n",
        "\n",
        "# Example usage:\n",
        "my_list = [1, 2, 3, 4, 5, 6, 7, 8, 9, 10]\n",
        "odd_sum, even_sum = sum_odd_even(my_list)\n",
        "\n",
        "print(f\"Original list: {my_list}\")\n",
        "print(f\"Sum of odd numbers: {odd_sum}\")\n",
        "print(f\"Sum of even numbers: {even_sum}\")"
      ],
      "execution_count": 8,
      "outputs": [
        {
          "output_type": "stream",
          "name": "stdout",
          "text": [
            "Original list: [1, 2, 3, 4, 5, 6, 7, 8, 9, 10]\n",
            "Sum of odd numbers: 25\n",
            "Sum of even numbers: 30\n"
          ]
        }
      ]
    }
  ]
}