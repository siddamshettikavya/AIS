{
  "cells": [
    {
      "cell_type": "code",
      "execution_count": null,
      "metadata": {
        "id": "k1efvnVGfFvM"
      },
      "outputs": [],
      "source": []
    },
    {
      "cell_type": "markdown",
      "metadata": {
        "id": "Svi4-nL4fvlR"
      },
      "source": [
        "Make a simple machine learning model in Python. After the code, add notes on how to use it responsibly, what its limits are, and fairness issues like bias.\n",
        "\n"
      ]
    },
    {
      "cell_type": "code",
      "execution_count": null,
      "metadata": {
        "colab": {
          "base_uri": "https://localhost:8080/"
        },
        "id": "e5c981f0",
        "outputId": "2dc28968-16a1-46d2-9a09-d1275380dee7"
      },
      "outputs": [
        {
          "name": "stdout",
          "output_type": "stream",
          "text": [
            "Prediction for x=6: 5.80\n"
          ]
        }
      ],
      "source": [
        "from sklearn.linear_model import LinearRegression\n",
        "import numpy as np\n",
        "\n",
        "# Sample data\n",
        "X = np.array([1, 2, 3, 4, 5]).reshape(-1, 1)\n",
        "y = np.array([2, 4, 5, 4, 5])\n",
        "\n",
        "# Create and train the model\n",
        "model = LinearRegression()\n",
        "model.fit(X, y)\n",
        "\n",
        "# Make a prediction\n",
        "prediction = model.predict([[6]])\n",
        "print(f\"Prediction for x=6: {prediction[0]:.2f}\")"
      ]
    },
    {
      "cell_type": "code",
      "execution_count": null,
      "metadata": {
        "colab": {
          "base_uri": "https://localhost:8080/"
        },
        "id": "ACdjjzjzgjLj",
        "outputId": "27eba7d8-d9a5-41f3-ebca-3bb3ddbcba75"
      },
      "outputs": [
        {
          "name": "stdout",
          "output_type": "stream",
          "text": [
            "Prediction for x=6: 5.80\n"
          ]
        }
      ],
      "source": [
        "from sklearn.linear_model import LinearRegression\n",
        "import numpy as np\n",
        "\n",
        "# Simple Linear Regression Example\n",
        "\n",
        "# Training data (just a small example dataset)\n",
        "X = np.array([1, 2, 3, 4, 5]).reshape(-1, 1)\n",
        "y = np.array([2, 4, 5, 4, 5])\n",
        "\n",
        "# Train the model\n",
        "model = LinearRegression()\n",
        "model.fit(X, y)\n",
        "\n",
        "# Make a prediction\n",
        "prediction = model.predict([[6]])\n",
        "print(f\"Prediction for x=6: {prediction[0]:.2f}\")\n",
        "\n",
        "# ----------------------------\n",
        "# Notes for Responsible Use\n",
        "# ----------------------------\n",
        "# - This is only a demo, not for real decisions.\n",
        "# - Accuracy is low because data is very small.\n",
        "# - Results can be biased if training data is biased.\n",
        "# - Don’t use in sensitive areas (health, jobs, etc.).\n",
        "# - For real use, train on more and better data."
      ]
    }
  ],
  "metadata": {
    "colab": {
      "provenance": []
    },
    "kernelspec": {
      "display_name": "Python 3",
      "name": "python3"
    },
    "language_info": {
      "name": "python"
    }
  },
  "nbformat": 4,
  "nbformat_minor": 0
}
