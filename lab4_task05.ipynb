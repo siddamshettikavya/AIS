{
  "nbformat": 4,
  "nbformat_minor": 0,
  "metadata": {
    "colab": {
      "provenance": []
    },
    "kernelspec": {
      "name": "python3",
      "display_name": "Python 3"
    },
    "language_info": {
      "name": "python"
    }
  },
  "cells": [
    {
      "cell_type": "markdown",
      "source": [],
      "metadata": {
        "id": "FOwOrW4vDYxw"
      }
    },
    {
      "cell_type": "markdown",
      "source": [
        "Task Description#5\n",
        "●Use few-shot prompting to generate a function that reads a .txt file and returns the number of lines.\n",
        "Expected Output#5\n",
        "●Working file-processing function with AI-guided logic\n",
        "Prompt:"
      ],
      "metadata": {
        "id": "v8N_6eYbDrQH"
      }
    },
    {
      "cell_type": "code",
      "source": [
        "def count_lines(filename):\n",
        "  \"\"\"Reads a text file and prints its number of lines.\"\"\"\n",
        "  try:\n",
        "    with open(filename, 'r') as f:\n",
        "      lines = f.readlines()\n",
        "      print(f\"Number of lines in {filename}: {len(lines)}\")\n",
        "  except FileNotFoundError:\n",
        "    print(f\"Error: File '{filename}' not found.\")\n",
        "\n",
        "# Example usage:\n",
        "# Create a dummy file for testing\n",
        "with open(\"example.txt\", \"w\") as f:\n",
        "  f.write(\"hello world\\n\")\n",
        "  f.write(\"hi hello\\n\")\n",
        "  f.write(\"sru ai technology\\n\")\n",
        "\n",
        "\n",
        "count_lines(\"example.txt\")\n",
        "\n",
        "# You can replace \"example.txt\" with the path to your file."
      ],
      "metadata": {
        "colab": {
          "base_uri": "https://localhost:8080/"
        },
        "id": "0yazyH-9DsHP",
        "outputId": "1db706ba-3f0f-4e4f-fdc2-10dc2420a47f"
      },
      "execution_count": 2,
      "outputs": [
        {
          "output_type": "stream",
          "name": "stdout",
          "text": [
            "Number of lines in example.txt: 3\n"
          ]
        }
      ]
    }
  ]
}